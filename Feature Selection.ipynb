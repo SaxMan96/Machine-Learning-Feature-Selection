{
 "cells": [
  {
   "cell_type": "markdown",
   "metadata": {},
   "source": [
    "# Ładowanie danych"
   ]
  },
  {
   "cell_type": "code",
   "execution_count": 1,
   "metadata": {},
   "outputs": [],
   "source": [
    "import numpy as np\n",
    "import pandas as pd\n",
    "import matplotlib.pyplot as plt\n",
    "import seaborn as sns\n",
    "from boruta import BorutaPy\n",
    "from tqdm import tqdm_notebook as tqdm\n",
    "import warnings\n",
    "warnings.filterwarnings('ignore')\n",
    "\n",
    "from sklearn.ensemble import RandomForestClassifier\n",
    "from sklearn.neighbors import KNeighborsRegressor\n",
    "from sklearn.neighbors import KNeighborsClassifier\n",
    "from sklearn.tree import DecisionTreeRegressor\n",
    "from sklearn.tree import DecisionTreeClassifier\n",
    "from sklearn.linear_model import LogisticRegression\n",
    "\n",
    "from sklearn.preprocessing import StandardScaler\n",
    "from sklearn.pipeline import Pipeline\n",
    "from sklearn.model_selection import GridSearchCV\n",
    "from sklearn.model_selection import StratifiedKFold\n",
    "\n",
    "from sklearn.metrics import balanced_accuracy_score, accuracy_score\n",
    "from sklearn.model_selection import cross_val_score\n",
    "from sklearn.metrics import classification_report, log_loss, confusion_matrix\n",
    "from sklearn.model_selection import train_test_split\n",
    "\n",
    "TRAIN_DATA_FILE_PATH = \"data/artificial_train.data\"\n",
    "TRAIN_LABELS_FILE_PATH = \"data/artificial_train.labels\"\n",
    "VALID_DATA_FILE_PATH = \"data/artificial_valid.data\"\n",
    "\n",
    "x_df = pd.read_csv(TRAIN_DATA_FILE_PATH,\n",
    "                   header=None,\n",
    "                   sep=\" \",\n",
    "                   usecols=range(500))\n",
    "y_df = pd.read_csv(TRAIN_LABELS_FILE_PATH, header=None)\n",
    "x_df_val = pd.read_csv(VALID_DATA_FILE_PATH,\n",
    "                       header=None,\n",
    "                       sep=\" \",\n",
    "                       usecols=range(500))"
   ]
  },
  {
   "cell_type": "markdown",
   "metadata": {},
   "source": [
    "# Definy"
   ]
  },
  {
   "cell_type": "code",
   "execution_count": 2,
   "metadata": {},
   "outputs": [],
   "source": [
    "def standarize(df):\n",
    "    return (df - df.min(axis=0)) / (df.max(axis=0) - df.min(axis=0))\n",
    "\n",
    "\n",
    "def boruta_feature_selection(x, y):\n",
    "    rfc = RandomForestClassifier(n_estimators=200,\n",
    "                                 n_jobs=-1,\n",
    "                                 class_weight='balanced',\n",
    "                                 max_depth=7,\n",
    "                                 random_state=0)\n",
    "    boruta_selector = BorutaPy(rfc,\n",
    "                               n_estimators='auto',\n",
    "                               verbose=1,\n",
    "                               random_state=0)\n",
    "    boruta_selector.fit(x, y)\n",
    "    features = np.where(boruta_selector.support_ +\n",
    "                        boruta_selector.support_weak_ == True)[0]\n",
    "    print(f\"\\rBoruta\\nNumber of Selected Features: {features.shape[0]}\")\n",
    "    print(\"Selected Features: \")\n",
    "    print(*features.tolist())\n",
    "    return features.tolist()\n",
    "\n",
    "\n",
    "def calculate_r_2_for_feature(data, feature, regression_type):\n",
    "    new_data = data.drop(feature, axis=1)\n",
    "\n",
    "    X_train, \\\n",
    "    X_test,  \\\n",
    "    y_train, \\\n",
    "    y_test = train_test_split(\n",
    "        new_data,data[feature],test_size=0.25\n",
    "    )\n",
    "    if regression_type == \"KNR\":\n",
    "        regressor = KNeighborsRegressor()\n",
    "    elif regression_type == \"DTR\":\n",
    "        regressor = DecisionTreeRegressor()\n",
    "    else:\n",
    "        raise Exception(\"Wrong type of regression, use:\\n\",\n",
    "                        \"KNR for KNeighborsRegressor\\n\",\n",
    "                        \"DTR for DecisionTreeRegressor\")\n",
    "    regressor.fit(X_train, y_train)\n",
    "\n",
    "    # score returns the coefficient of determination R^2 of the prediction.\n",
    "    score = regressor.score(X_test, y_test)\n",
    "    return score\n",
    "\n",
    "\n",
    "def calculate_mean_r_2(data, feature, regression_type, iteration=10):\n",
    "    scores = []\n",
    "    for i in range(iteration):\n",
    "        scores.append(calculate_r_2_for_feature(data, feature,\n",
    "                                                regression_type))\n",
    "    scores = np.array(scores)\n",
    "    return scores.mean()\n",
    "\n",
    "\n",
    "def r_2_score_denoisser(regression_type=\"KNR\"):\n",
    "    avg_r2_feature_scores = []\n",
    "    for column in tqdm(x_df.columns):\n",
    "        score = calculate_mean_r_2(x_df.sample(n=30, random_state=1), column,\n",
    "                                   regression_type)\n",
    "        avg_r2_feature_scores.append(score)\n",
    "\n",
    "    features = [i for i, r2 in enumerate(avg_r2_feature_scores) if r2 > 0]\n",
    "    print(\"R\\u00b2 Score Denoisser\\nRegressor:\", end=\" \")\n",
    "    if regression_type == \"KNR\":\n",
    "        print(\"KNeighborsRegressor\")\n",
    "    elif regression_type == \"DTR\":\n",
    "        print(\"DecisionTreeRegressor\")\n",
    "    print(f\"Number of Selected Features: {len(features)}\")\n",
    "    print(\"Selected Feaures: \")\n",
    "    print(*features)\n",
    "    return features\n"
   ]
  },
  {
   "cell_type": "code",
   "execution_count": 3,
   "metadata": {
    "scrolled": true
   },
   "outputs": [
    {
     "data": {
      "application/vnd.jupyter.widget-view+json": {
       "model_id": "f7b5ab078aa1496b955bce93aae15140",
       "version_major": 2,
       "version_minor": 0
      },
      "text/plain": [
       "HBox(children=(IntProgress(value=0, max=500), HTML(value='')))"
      ]
     },
     "metadata": {},
     "output_type": "display_data"
    },
    {
     "name": "stdout",
     "output_type": "stream",
     "text": [
      "\n",
      "R² Score Denoisser\n",
      "Regressor: DecisionTreeRegressor\n",
      "Number of Selected Features: 16\n",
      "Selected Feaures: \n",
      "28 48 64 105 128 153 281 318 378 433 442 451 453 472 475 493\n"
     ]
    }
   ],
   "source": [
    "features_DTR = r_2_score_denoisser(regression_type=\"DTR\")"
   ]
  },
  {
   "cell_type": "code",
   "execution_count": 4,
   "metadata": {
    "scrolled": true
   },
   "outputs": [
    {
     "data": {
      "application/vnd.jupyter.widget-view+json": {
       "model_id": "97eb5e88aa08434f9f1b726198ea64df",
       "version_major": 2,
       "version_minor": 0
      },
      "text/plain": [
       "HBox(children=(IntProgress(value=0, max=500), HTML(value='')))"
      ]
     },
     "metadata": {},
     "output_type": "display_data"
    },
    {
     "name": "stdout",
     "output_type": "stream",
     "text": [
      "\n",
      "R² Score Denoisser\n",
      "Regressor: KNeighborsRegressor\n",
      "Number of Selected Features: 19\n",
      "Selected Feaures: \n",
      "64 105 114 128 153 241 281 309 336 338 346 378 433 442 453 455 472 475 493\n"
     ]
    }
   ],
   "source": [
    "features_KNR = r_2_score_denoisser(regression_type=\"KNR\")"
   ]
  },
  {
   "cell_type": "code",
   "execution_count": 5,
   "metadata": {},
   "outputs": [
    {
     "name": "stdout",
     "output_type": "stream",
     "text": [
      "Iteration: 1 / 100\n",
      "Iteration: 2 / 100\n",
      "Iteration: 3 / 100\n",
      "Iteration: 4 / 100\n",
      "Iteration: 5 / 100\n",
      "Iteration: 6 / 100\n",
      "Iteration: 7 / 100\n",
      "Iteration: 8 / 100\n",
      "Iteration: 9 / 100\n",
      "Iteration: 10 / 100\n",
      "Iteration: 11 / 100\n",
      "Iteration: 12 / 100\n",
      "Iteration: 13 / 100\n",
      "Iteration: 14 / 100\n",
      "Iteration: 15 / 100\n",
      "Iteration: 16 / 100\n",
      "Iteration: 17 / 100\n",
      "Iteration: 18 / 100\n",
      "Iteration: 19 / 100\n",
      "Iteration: 20 / 100\n",
      "Iteration: 21 / 100\n",
      "Iteration: 22 / 100\n",
      "Iteration: 23 / 100\n",
      "Iteration: 24 / 100\n",
      "Iteration: 25 / 100\n",
      "Iteration: 26 / 100\n",
      "Iteration: 27 / 100\n",
      "Iteration: 28 / 100\n",
      "Iteration: 29 / 100\n",
      "Iteration: 30 / 100\n",
      "Iteration: 31 / 100\n",
      "Iteration: 32 / 100\n",
      "Iteration: 33 / 100\n",
      "Iteration: 34 / 100\n",
      "Iteration: 35 / 100\n",
      "Iteration: 36 / 100\n",
      "Iteration: 37 / 100\n",
      "Iteration: 38 / 100\n",
      "Iteration: 39 / 100\n",
      "Iteration: 40 / 100\n",
      "Iteration: 41 / 100\n",
      "Iteration: 42 / 100\n",
      "Iteration: 43 / 100\n",
      "Iteration: 44 / 100\n",
      "Iteration: 45 / 100\n",
      "Iteration: 46 / 100\n",
      "Iteration: 47 / 100\n",
      "Iteration: 48 / 100\n",
      "Iteration: 49 / 100\n",
      "Iteration: 50 / 100\n",
      "Iteration: 51 / 100\n",
      "Iteration: 52 / 100\n",
      "Iteration: 53 / 100\n",
      "Iteration: 54 / 100\n",
      "Iteration: 55 / 100\n",
      "Iteration: 56 / 100\n",
      "Iteration: 57 / 100\n",
      "Iteration: 58 / 100\n",
      "Iteration: 59 / 100\n",
      "Iteration: 60 / 100\n",
      "Iteration: 61 / 100\n",
      "Iteration: 62 / 100\n",
      "Iteration: 63 / 100\n",
      "Iteration: 64 / 100\n",
      "Iteration: 65 / 100\n",
      "Iteration: 66 / 100\n",
      "Iteration: 67 / 100\n",
      "Iteration: 68 / 100\n",
      "Iteration: 69 / 100\n",
      "Iteration: 70 / 100\n",
      "Iteration: 71 / 100\n",
      "Iteration: 72 / 100\n",
      "Iteration: 73 / 100\n",
      "Iteration: 74 / 100\n",
      "Iteration: 75 / 100\n",
      "Iteration: 76 / 100\n",
      "Iteration: 77 / 100\n",
      "Iteration: 78 / 100\n",
      "Iteration: 79 / 100\n",
      "Iteration: 80 / 100\n",
      "Iteration: 81 / 100\n",
      "Iteration: 82 / 100\n",
      "Iteration: 83 / 100\n",
      "Iteration: 84 / 100\n",
      "Iteration: 85 / 100\n",
      "Iteration: 86 / 100\n",
      "Iteration: 87 / 100\n",
      "Iteration: 88 / 100\n",
      "Iteration: 89 / 100\n",
      "Iteration: 90 / 100\n",
      "Iteration: 91 / 100\n",
      "Iteration: 92 / 100\n",
      "Iteration: 93 / 100\n",
      "Iteration: 94 / 100\n",
      "Iteration: 95 / 100\n",
      "Iteration: 96 / 100\n",
      "Iteration: 97 / 100\n",
      "Iteration: 98 / 100\n",
      "Iteration: 99 / 100\n",
      "\n",
      "\n",
      "BorutaPy finished running.\n",
      "\n",
      "Iteration: \t100 / 100\n",
      "Confirmed: \t19\n",
      "Tentative: \t1\n",
      "Rejected: \t479\n",
      "Boruta\n",
      "Number of Selected Features: 20\n",
      "Selected Features: \n",
      "10 28 48 64 105 128 153 241 281 318 336 338 378 433 442 451 453 472 475 493\n"
     ]
    }
   ],
   "source": [
    "features_boruta = boruta_feature_selection(x_df.values, y_df.values)"
   ]
  },
  {
   "cell_type": "code",
   "execution_count": 5,
   "metadata": {},
   "outputs": [],
   "source": [
    "features = features_boruta"
   ]
  },
  {
   "cell_type": "code",
   "execution_count": 6,
   "metadata": {},
   "outputs": [],
   "source": [
    "x_sel = x_df.iloc[:, features]\n",
    "x_val_sel = x_df_val.iloc[:, features]\n",
    "x_train, x_test, y_train, y_test = train_test_split(x_sel,y_df,test_size=0.25)"
   ]
  },
  {
   "cell_type": "code",
   "execution_count": 7,
   "metadata": {},
   "outputs": [
    {
     "data": {
      "image/png": "[encoded data removed]",
      "text/plain": [
       "<Figure size 1440x1440 with 20 Axes>"
      ]
     },
     "metadata": {
      "needs_background": "light"
     },
     "output_type": "display_data"
    }
   ],
   "source": [
    "fig = plt.figure(figsize=(20, 20))\n",
    "\n",
    "for i in range(len(x_sel.columns)):\n",
    "    fig.add_subplot(5, 4, i + 1)\n",
    "    plt.hist(x_sel.iloc[:, i])\n",
    "    plt.title(f\"Feature {x_sel.columns[i]}\")"
   ]
  },
  {
   "cell_type": "markdown",
   "metadata": {},
   "source": [
    "# Logistic Regression"
   ]
  },
  {
   "cell_type": "code",
   "execution_count": 13,
   "metadata": {},
   "outputs": [],
   "source": [
    "logregPipe = Pipeline([('scaler', StandardScaler()),\n",
    "                       ('logreg', LogisticRegression(random_state=123))])\n",
    "_ = logregPipe.fit(x_train, y_train)"
   ]
  },
  {
   "cell_type": "code",
   "execution_count": 360,
   "metadata": {},
   "outputs": [
    {
     "name": "stdout",
     "output_type": "stream",
     "text": [
      "accuracy on the tain set:  0.6326666666666667\n",
      "accuracy on the test set:  0.572\n"
     ]
    }
   ],
   "source": [
    "print('accuracy on the tain set: ', logregPipe.score(x_train, y_train))\n",
    "print('accuracy on the test set: ', logregPipe.score(x_test, y_test))"
   ]
  },
  {
   "cell_type": "code",
   "execution_count": 361,
   "metadata": {},
   "outputs": [
    {
     "name": "stdout",
     "output_type": "stream",
     "text": [
      "           selected parameter\n",
      "logreg__C            0.151991\n"
     ]
    },
    {
     "data": {
      "image/png": "[encoded data removed]",
      "text/plain": [
       "<Figure size 864x432 with 1 Axes>"
      ]
     },
     "metadata": {
      "needs_background": "light"
     },
     "output_type": "display_data"
    }
   ],
   "source": [
    "param_space = np.logspace(-3, 0, 100)\n",
    "logregParam = {'logreg__C': param_space}\n",
    "logregGS = GridSearchCV(estimator=logregPipe, param_grid=logregParam, cv=5)\n",
    "logregGS.fit(x_train, y_train)\n",
    "print(pd.DataFrame.from_dict(logregGS.best_params_,\n",
    "                           orient='index',\n",
    "                           columns=[\"selected parameter\"]))\n",
    "mean_test_score = logregGS.cv_results_[\"mean_test_score\"]\n",
    "std_test_score = logregGS.cv_results_[\"std_test_score\"]\n",
    "plt.figure(figsize=(12, 6))\n",
    "plt.errorbar(param_space, mean_test_score, std_test_score, fmt='ok', lw=3)\n",
    "plt.xscale('log')\n",
    "logregGS.estimator.steps[1][1].C = logregGS.best_params_[\"logreg__C\"]"
   ]
  },
  {
   "cell_type": "code",
   "execution_count": 362,
   "metadata": {},
   "outputs": [
    {
     "name": "stdout",
     "output_type": "stream",
     "text": [
      "accuracy on the test set:  0.598\n",
      "accuracy on the train set:  0.628\n"
     ]
    }
   ],
   "source": [
    "print(\"accuracy on the test set: \",\n",
    "      accuracy_score(y_test, logregGS.predict(x_test)))\n",
    "print(\"accuracy on the train set: \",\n",
    "      accuracy_score(y_train, logregGS.predict(x_train)))"
   ]
  },
  {
   "cell_type": "code",
   "execution_count": 363,
   "metadata": {
    "scrolled": true
   },
   "outputs": [
    {
     "data": {
      "text/html": [
       "<div>\n",
       "<style scoped>\n",
       "    .dataframe tbody tr th:only-of-type {\n",
       "        vertical-align: middle;\n",
       "    }\n",
       "\n",
       "    .dataframe tbody tr th {\n",
       "        vertical-align: top;\n",
       "    }\n",
       "\n",
       "    .dataframe thead th {\n",
       "        text-align: right;\n",
       "    }\n",
       "</style>\n",
       "<table border=\"1\" class=\"dataframe\">\n",
       "  <thead>\n",
       "    <tr style=\"text-align: right;\">\n",
       "      <th></th>\n",
       "      <th>Predicted -1</th>\n",
       "      <th>Predicted 1</th>\n",
       "    </tr>\n",
       "  </thead>\n",
       "  <tbody>\n",
       "    <tr>\n",
       "      <th>Actual -1</th>\n",
       "      <td>115</td>\n",
       "      <td>123</td>\n",
       "    </tr>\n",
       "    <tr>\n",
       "      <th>Actual 1</th>\n",
       "      <td>134</td>\n",
       "      <td>128</td>\n",
       "    </tr>\n",
       "  </tbody>\n",
       "</table>\n",
       "</div>"
      ],
      "text/plain": [
       "           Predicted -1  Predicted 1\n",
       "Actual -1           115          123\n",
       "Actual 1            134          128"
      ]
     },
     "execution_count": 363,
     "metadata": {},
     "output_type": "execute_result"
    }
   ],
   "source": [
    "knnGS_confMatrix = pd.DataFrame(confusion_matrix(y_test, knnGS_ypreds), columns=['Predicted -1', 'Predicted 1'],\\\n",
    "                                index=['Actual -1', 'Actual 1'])\n",
    "knnGS_confMatrix"
   ]
  },
  {
   "cell_type": "markdown",
   "metadata": {},
   "source": [
    "# KNeighborsClassifier"
   ]
  },
  {
   "cell_type": "code",
   "execution_count": 364,
   "metadata": {},
   "outputs": [],
   "source": [
    "knnPipe = Pipeline([\n",
    "    ('scaler', StandardScaler()),\n",
    "    ('knn', KNeighborsClassifier(n_jobs=-1)),\n",
    "])\n",
    "knnParam = {\n",
    "    'knn__n_neighbors': [1, 3, 5, 7, 8, 9, 10, 11],\n",
    "    'knn__weights': ['uniform', 'distance'],\n",
    "}\n",
    "_ = knnPipe.fit(x_train, y_train)"
   ]
  },
  {
   "cell_type": "code",
   "execution_count": 365,
   "metadata": {},
   "outputs": [
    {
     "name": "stdout",
     "output_type": "stream",
     "text": [
      "accuracy on the train set:  0.9173333333333333\n",
      "accuracy on the test set:  0.878\n"
     ]
    }
   ],
   "source": [
    "print('accuracy on the train set: ', knnPipe.score(x_train, y_train))\n",
    "print('accuracy on the test set: ', knnPipe.score(x_test, y_test))"
   ]
  },
  {
   "cell_type": "code",
   "execution_count": 366,
   "metadata": {},
   "outputs": [
    {
     "name": "stdout",
     "output_type": "stream",
     "text": [
      "                 selected parameter\n",
      "knn__n_neighbors                  3\n",
      "knn__weights                uniform\n"
     ]
    },
    {
     "data": {
      "image/png": "[encoded data removed]",
      "text/plain": [
       "<Figure size 720x360 with 1 Axes>"
      ]
     },
     "metadata": {
      "needs_background": "light"
     },
     "output_type": "display_data"
    }
   ],
   "source": [
    "knnGS = GridSearchCV(knnPipe, param_grid=knnParam, n_jobs=-1)\n",
    "_ = knnGS.fit(x_train, y_train)\n",
    "print(pd.DataFrame.from_dict(knnGS.best_params_,\n",
    "                           orient='index',\n",
    "                           columns=[\"selected parameter\"]))\n",
    "mean_test_score = knnGS.cv_results_[\"mean_test_score\"]\n",
    "std_test_score = knnGS.cv_results_[\"std_test_score\"]\n",
    "plt.figure(figsize=(10, 5))\n",
    "_ = plt.errorbar(np.arange(mean_test_score.shape[0]),\n",
    "                 mean_test_score,\n",
    "                 std_test_score,\n",
    "                 fmt='ok',\n",
    "                 lw=3)"
   ]
  },
  {
   "cell_type": "code",
   "execution_count": 367,
   "metadata": {},
   "outputs": [
    {
     "name": "stdout",
     "output_type": "stream",
     "text": [
      "accuracy on the train set:  0.9406666666666667\n",
      "accuracy on the test set: 0.88\n"
     ]
    }
   ],
   "source": [
    "print(\"accuracy on the train set: \", knnGS.score(x_train, y_train))\n",
    "print(\"accuracy on the test set:\", knnGS.score(x_test, y_test))"
   ]
  },
  {
   "cell_type": "code",
   "execution_count": 368,
   "metadata": {},
   "outputs": [
    {
     "data": {
      "text/html": [
       "<div>\n",
       "<style scoped>\n",
       "    .dataframe tbody tr th:only-of-type {\n",
       "        vertical-align: middle;\n",
       "    }\n",
       "\n",
       "    .dataframe tbody tr th {\n",
       "        vertical-align: top;\n",
       "    }\n",
       "\n",
       "    .dataframe thead th {\n",
       "        text-align: right;\n",
       "    }\n",
       "</style>\n",
       "<table border=\"1\" class=\"dataframe\">\n",
       "  <thead>\n",
       "    <tr style=\"text-align: right;\">\n",
       "      <th></th>\n",
       "      <th>Predicted -1</th>\n",
       "      <th>Predicted 1</th>\n",
       "    </tr>\n",
       "  </thead>\n",
       "  <tbody>\n",
       "    <tr>\n",
       "      <th>Actual -1</th>\n",
       "      <td>211</td>\n",
       "      <td>27</td>\n",
       "    </tr>\n",
       "    <tr>\n",
       "      <th>Actual 1</th>\n",
       "      <td>33</td>\n",
       "      <td>229</td>\n",
       "    </tr>\n",
       "  </tbody>\n",
       "</table>\n",
       "</div>"
      ],
      "text/plain": [
       "           Predicted -1  Predicted 1\n",
       "Actual -1           211           27\n",
       "Actual 1             33          229"
      ]
     },
     "execution_count": 368,
     "metadata": {},
     "output_type": "execute_result"
    }
   ],
   "source": [
    "knnGS_confMatrix = pd.DataFrame(confusion_matrix(y_test, knnGS.predict(x_test)), \\\n",
    "                                columns=['Predicted -1', 'Predicted 1'], \\\n",
    "                                index=['Actual -1', 'Actual 1'])\n",
    "knnGS_confMatrix"
   ]
  },
  {
   "cell_type": "markdown",
   "metadata": {},
   "source": [
    "# DecisionTree Classifier"
   ]
  },
  {
   "cell_type": "code",
   "execution_count": 369,
   "metadata": {},
   "outputs": [],
   "source": [
    "dectreePipe = Pipeline([('scaler', StandardScaler()),\n",
    "                        ('dectree', DecisionTreeClassifier(random_state=123))])\n",
    "dectreeParam = {\n",
    "    'dectree__criterion': ['gini', 'entropy'],\n",
    "    'dectree__class_weight': ['balanced', None]\n",
    "}\n",
    "_ = dectreePipe.fit(x_train, y_train)"
   ]
  },
  {
   "cell_type": "code",
   "execution_count": 370,
   "metadata": {},
   "outputs": [
    {
     "name": "stdout",
     "output_type": "stream",
     "text": [
      "accuracy on the train set:  1.0\n",
      "accuracy on the test set:  0.79\n"
     ]
    }
   ],
   "source": [
    "print('accuracy on the train set: ', dectreePipe.score(x_train, y_train))\n",
    "print('accuracy on the test set: ', dectreePipe.score(x_test, y_test))"
   ]
  },
  {
   "cell_type": "code",
   "execution_count": 371,
   "metadata": {},
   "outputs": [
    {
     "name": "stdout",
     "output_type": "stream",
     "text": [
      "                      selected parameter\n",
      "dectree__class_weight               None\n",
      "dectree__criterion                  gini\n"
     ]
    },
    {
     "data": {
      "text/plain": [
       "<ErrorbarContainer object of 3 artists>"
      ]
     },
     "execution_count": 371,
     "metadata": {},
     "output_type": "execute_result"
    },
    {
     "data": {
      "image/png": "[encoded data removed]",
      "text/plain": [
       "<Figure size 288x144 with 1 Axes>"
      ]
     },
     "metadata": {
      "needs_background": "light"
     },
     "output_type": "display_data"
    }
   ],
   "source": [
    "dectreeGS = GridSearchCV(dectreePipe, param_grid=dectreeParam, cv=5)\n",
    "_ = dectreeGS.fit(x_train, y_train)\n",
    "print(pd.DataFrame.from_dict(dectreeGS.best_params_,\n",
    "                           orient='index',\n",
    "                           columns=[\"selected parameter\"]))\n",
    "mean_test_score = dectreeGS.cv_results_[\"mean_test_score\"]\n",
    "std_test_score = dectreeGS.cv_results_[\"std_test_score\"]\n",
    "plt.figure(figsize=(4, 2))\n",
    "plt.errorbar(np.arange(mean_test_score.shape[0]),\n",
    "             mean_test_score,\n",
    "             std_test_score,\n",
    "             fmt='ok')"
   ]
  },
  {
   "cell_type": "code",
   "execution_count": 372,
   "metadata": {},
   "outputs": [
    {
     "name": "stdout",
     "output_type": "stream",
     "text": [
      "accuracy on the train set:  1.0\n",
      "accuracy on the test set:  0.79\n"
     ]
    }
   ],
   "source": [
    "print('accuracy on the train set: ', dectreeGS.score(x_train, y_train))\n",
    "print('accuracy on the test set: ', dectreeGS.score(x_test, y_test))"
   ]
  },
  {
   "cell_type": "code",
   "execution_count": 373,
   "metadata": {},
   "outputs": [
    {
     "data": {
      "text/html": [
       "<div>\n",
       "<style scoped>\n",
       "    .dataframe tbody tr th:only-of-type {\n",
       "        vertical-align: middle;\n",
       "    }\n",
       "\n",
       "    .dataframe tbody tr th {\n",
       "        vertical-align: top;\n",
       "    }\n",
       "\n",
       "    .dataframe thead th {\n",
       "        text-align: right;\n",
       "    }\n",
       "</style>\n",
       "<table border=\"1\" class=\"dataframe\">\n",
       "  <thead>\n",
       "    <tr style=\"text-align: right;\">\n",
       "      <th></th>\n",
       "      <th>Predicted -1</th>\n",
       "      <th>Predicted 1</th>\n",
       "    </tr>\n",
       "  </thead>\n",
       "  <tbody>\n",
       "    <tr>\n",
       "      <th>Actual -1</th>\n",
       "      <td>108</td>\n",
       "      <td>130</td>\n",
       "    </tr>\n",
       "    <tr>\n",
       "      <th>Actual 1</th>\n",
       "      <td>125</td>\n",
       "      <td>137</td>\n",
       "    </tr>\n",
       "  </tbody>\n",
       "</table>\n",
       "</div>"
      ],
      "text/plain": [
       "           Predicted -1  Predicted 1\n",
       "Actual -1           108          130\n",
       "Actual 1            125          137"
      ]
     },
     "execution_count": 373,
     "metadata": {},
     "output_type": "execute_result"
    }
   ],
   "source": [
    "pd.DataFrame(confusion_matrix(y_test, dectreeGS_ypreds),\n",
    "             columns=['Predicted -1', 'Predicted 1'],\n",
    "             index=['Actual -1', 'Actual 1'])"
   ]
  },
  {
   "cell_type": "markdown",
   "metadata": {},
   "source": [
    "# Random Forest"
   ]
  },
  {
   "cell_type": "code",
   "execution_count": 374,
   "metadata": {},
   "outputs": [],
   "source": [
    "from sklearn.ensemble import RandomForestClassifier\n",
    "\n",
    "randtreePipe = Pipeline([('scaler', StandardScaler()),\n",
    "                         ('randtree',\n",
    "                          RandomForestClassifier(random_state=123,\n",
    "                                                 n_estimators=100,\n",
    "                                                 bootstrap=False))])\n",
    "max_depth_param = range(5, 25)\n",
    "randtreeParam = {'randtree__max_depth': max_depth_param}\n",
    "_ = randtreePipe.fit(x_train, y_train)"
   ]
  },
  {
   "cell_type": "code",
   "execution_count": 375,
   "metadata": {},
   "outputs": [
    {
     "name": "stdout",
     "output_type": "stream",
     "text": [
      "accuracy on the train set:  1.0\n",
      "accuracy on the test set:  0.896\n"
     ]
    }
   ],
   "source": [
    "print('accuracy on the train set: ', randtreePipe.score(x_train, y_train))\n",
    "print('accuracy on the test set: ', randtreePipe.score(x_test, y_test))"
   ]
  },
  {
   "cell_type": "code",
   "execution_count": 376,
   "metadata": {},
   "outputs": [
    {
     "name": "stdout",
     "output_type": "stream",
     "text": [
      "                     selected parameter\n",
      "randtree__max_depth                  14\n"
     ]
    },
    {
     "data": {
      "text/plain": [
       "<ErrorbarContainer object of 3 artists>"
      ]
     },
     "execution_count": 376,
     "metadata": {},
     "output_type": "execute_result"
    },
    {
     "data": {
      "image/png": "[encoded data removed]",
      "text/plain": [
       "<Figure size 432x288 with 1 Axes>"
      ]
     },
     "metadata": {
      "needs_background": "light"
     },
     "output_type": "display_data"
    }
   ],
   "source": [
    "randtreeGS = GridSearchCV(randtreePipe, param_grid=randtreeParam, cv=5)\n",
    "randtreeGS.fit(x_train, y_train)\n",
    "mean_test_score = randtreeGS.cv_results_[\"mean_test_score\"]\n",
    "\n",
    "std_test_score = randtreeGS.cv_results_[\"std_test_score\"]\n",
    "\n",
    "print(\n",
    "    pd.DataFrame.from_dict(randtreeGS.best_params_,\n",
    "                           orient='index',\n",
    "                           columns=[\"selected parameter\"]))\n",
    "\n",
    "pd.DataFrame(randtreeGS.cv_results_).sort_values(by='rank_test_score')[:5][[\n",
    "    'rank_test_score', 'param_randtree__max_depth', 'mean_test_score',\n",
    "    'std_test_score'\n",
    "]].T\n",
    "\n",
    "plt.figure(figsize=(6, 4))\n",
    "plt.errorbar(max_depth_param, mean_test_score, std_test_score, fmt='ok')"
   ]
  },
  {
   "cell_type": "code",
   "execution_count": 377,
   "metadata": {},
   "outputs": [
    {
     "name": "stdout",
     "output_type": "stream",
     "text": [
      "accuracy on the train set 1.0\n",
      "accuracy on the test set 0.89\n"
     ]
    }
   ],
   "source": [
    "print(\"accuracy on the train set\", randtreeGS.score(x_train, y_train))\n",
    "print(\"accuracy on the test set\", randtreeGS.score(x_test, y_test))"
   ]
  },
  {
   "cell_type": "code",
   "execution_count": 378,
   "metadata": {},
   "outputs": [
    {
     "data": {
      "text/html": [
       "<div>\n",
       "<style scoped>\n",
       "    .dataframe tbody tr th:only-of-type {\n",
       "        vertical-align: middle;\n",
       "    }\n",
       "\n",
       "    .dataframe tbody tr th {\n",
       "        vertical-align: top;\n",
       "    }\n",
       "\n",
       "    .dataframe thead th {\n",
       "        text-align: right;\n",
       "    }\n",
       "</style>\n",
       "<table border=\"1\" class=\"dataframe\">\n",
       "  <thead>\n",
       "    <tr style=\"text-align: right;\">\n",
       "      <th></th>\n",
       "      <th>Predicted -1</th>\n",
       "      <th>Predicted 1</th>\n",
       "    </tr>\n",
       "  </thead>\n",
       "  <tbody>\n",
       "    <tr>\n",
       "      <th>Actual -1</th>\n",
       "      <td>117</td>\n",
       "      <td>121</td>\n",
       "    </tr>\n",
       "    <tr>\n",
       "      <th>Actual 1</th>\n",
       "      <td>129</td>\n",
       "      <td>133</td>\n",
       "    </tr>\n",
       "  </tbody>\n",
       "</table>\n",
       "</div>"
      ],
      "text/plain": [
       "           Predicted -1  Predicted 1\n",
       "Actual -1           117          121\n",
       "Actual 1            129          133"
      ]
     },
     "execution_count": 378,
     "metadata": {},
     "output_type": "execute_result"
    }
   ],
   "source": [
    "randtreeGS_confMatrix = pd.DataFrame(confusion_matrix(y_test, randtreeGS_ypreds), columns=['Predicted -1', \\\n",
    "                                                                                               'Predicted 1'],\\\n",
    "                                   index=['Actual -1', 'Actual 1'])\n",
    "randtreeGS_confMatrix"
   ]
  },
  {
   "cell_type": "markdown",
   "metadata": {},
   "source": [
    "# Porównanie Dokładności Modeli"
   ]
  },
  {
   "cell_type": "code",
   "execution_count": 379,
   "metadata": {},
   "outputs": [
    {
     "name": "stdout",
     "output_type": "stream",
     "text": [
      "Logistic Regression\n",
      "accuracy on the train set:  0.628\n",
      "accuracy on the test set:  0.598\n",
      "\n",
      "K-Neighbors Classifier\n",
      "accuracy on the train set:  0.9406666666666667\n",
      "accuracy on the test set: 0.88\n",
      "\n",
      "Decision Tree Classifier\n",
      "accuracy on the train set:  1.0\n",
      "accuracy on the test set:  0.79\n",
      "\n",
      "RandomForestClassifier\n",
      "accuracy on the train set 1.0\n",
      "accuracy on the test set 0.89\n"
     ]
    }
   ],
   "source": [
    "print(\"Logistic Regression\")\n",
    "print(\"accuracy on the train set: \", logregGS.score(x_train, y_train))\n",
    "print(\"accuracy on the test set: \", logregGS.score(x_test, y_test))\n",
    "\n",
    "print(\"\\nK-Neighbors Classifier\")\n",
    "print(\"accuracy on the train set: \", knnGS.score(x_train, y_train))\n",
    "print(\"accuracy on the test set:\", knnGS.score(x_test, y_test))\n",
    "\n",
    "print(\"\\nDecision Tree Classifier\")\n",
    "print('accuracy on the train set: ', dectreeGS.score(x_train, y_train))\n",
    "print('accuracy on the test set: ', dectreeGS.score(x_test, y_test))\n",
    "\n",
    "print(\"\\nRandomForestClassifier\")\n",
    "print(\"accuracy on the train set\", randtreeGS.score(x_train, y_train))\n",
    "print(\"accuracy on the test set\", randtreeGS.score(x_test, y_test))"
   ]
  },
  {
   "cell_type": "markdown",
   "metadata": {},
   "source": [
    "# Wybierzmy najlepszy model przy zastosowaniu różnych cech"
   ]
  },
  {
   "cell_type": "code",
   "execution_count": 7,
   "metadata": {},
   "outputs": [
    {
     "name": "stdout",
     "output_type": "stream",
     "text": [
      "Logistic Regression\n",
      "\t features_KNR 19\n",
      "\t\tCV accuracy on the train set:  58.3 %\n",
      "\t\tCV accuracy on the test set: 62.8 %\n",
      "\t features_DTR 16\n",
      "\t\tCV accuracy on the train set:  60.3 %\n",
      "\t\tCV accuracy on the test set: 62.6 %\n",
      "\t features_boruta 20\n",
      "\t\tCV accuracy on the train set:  59.199999999999996 %\n",
      "\t\tCV accuracy on the test set: 61.6 %\n"
     ]
    }
   ],
   "source": [
    "print(\"Logistic Regression\")\n",
    "for features_name, features in {'features_KNR': features_KNR, 'features_DTR': features_DTR, 'features_boruta': features_boruta,}.items():\n",
    "    print(\"\\t\",features_name,len(features))\n",
    "    x_sel = x_df.iloc[:, features]\n",
    "    x_val_sel = x_df_val.iloc[:, features]\n",
    "    x_train, x_test, y_train, y_test = train_test_split(x_sel,y_df,test_size=0.25)\n",
    "    \n",
    "    param_space = np.logspace(-3, 0, 100)\n",
    "    logregParam = {'logreg__C': param_space}\n",
    "    logregPipe = Pipeline([('scaler', StandardScaler()),\n",
    "                       ('logreg', LogisticRegression(random_state=123))])\n",
    "    logregGS = GridSearchCV(estimator=logregPipe, param_grid=logregParam, cv=5)\n",
    "    logregGS.fit(x_train, y_train)\n",
    "    \n",
    "    skf = StratifiedKFold(n_splits=5, shuffle=True)\n",
    "    skf.get_n_splits(x_train, y_train)\n",
    "    \n",
    "    cv_train = cross_val_score(logregGS, x_train, y_train, cv=skf,scoring=\"accuracy\")\n",
    "    cv_test = cross_val_score(logregGS, x_test, y_test, cv=skf,scoring=\"accuracy\")\n",
    "    \n",
    "    print(\"\\t\\tCV accuracy on the train set: \", cv_train.mean().round(3)*100, \"%\")\n",
    "    print(\"\\t\\tCV accuracy on the test set:\", cv_test.mean().round(3)*100, \"%\")\n",
    "    \n",
    "#     print(\"\\t\\taccuracy on the train set: \", logregGS.score(x_train, y_train).round(3))\n",
    "#     print(\"\\t\\taccuracy on the test set:\", logregGS.score(x_test, y_test).round(3))    "
   ]
  },
  {
   "cell_type": "code",
   "execution_count": 8,
   "metadata": {},
   "outputs": [
    {
     "name": "stdout",
     "output_type": "stream",
     "text": [
      "\n",
      "K-Neighbors Classifier\n",
      "\t features_KNR 19\n",
      "\t\tCV accuracy on the train set:  82.936 %\n",
      "\t\tCV accuracy on the test set: 72.78 %\n",
      "\t features_DTR 16\n",
      "\t\tCV accuracy on the train set:  88.866 %\n",
      "\t\tCV accuracy on the test set: 82.229 %\n",
      "\t features_boruta 20\n",
      "\t\tCV accuracy on the train set:  87.2 %\n",
      "\t\tCV accuracy on the test set: 81.413 %\n"
     ]
    }
   ],
   "source": [
    "print(\"\\nK-Neighbors Classifier\")\n",
    "for features_name, features in {'features_KNR': features_KNR, 'features_DTR': features_DTR, 'features_boruta': features_boruta,}.items():\n",
    "    print(\"\\t\",features_name,len(features))\n",
    "    x_sel = x_df.iloc[:, features]\n",
    "    x_val_sel = x_df_val.iloc[:, features]\n",
    "    x_train, x_test, y_train, y_test = train_test_split(x_sel,y_df,test_size=0.25)\n",
    "    knnPipe = Pipeline([\n",
    "        ('scaler', StandardScaler()),\n",
    "        ('knn', KNeighborsClassifier(n_jobs=-1)),\n",
    "    ])\n",
    "    knnParam = {\n",
    "        'knn__n_neighbors': [1, 3, 5, 7, 8, 9, 10, 11],\n",
    "        'knn__weights': ['uniform', 'distance'],\n",
    "    }\n",
    "    knnGS = GridSearchCV(knnPipe, param_grid=knnParam, n_jobs=-1)\n",
    "    _ = knnGS.fit(x_train, y_train)\n",
    "    \n",
    "    skf = StratifiedKFold(n_splits=5, shuffle=True)\n",
    "    skf.get_n_splits(x_train, y_train)\n",
    "    \n",
    "    cv_train = cross_val_score(knnGS, x_train, y_train, cv=skf,scoring=\"accuracy\")\n",
    "    cv_test = cross_val_score(knnGS, x_test, y_test, cv=skf,scoring=\"accuracy\")\n",
    "    \n",
    "    print(\"\\t\\tCV accuracy on the train set: \", (cv_train.mean()*100).round(3), \"%\")\n",
    "    print(\"\\t\\tCV accuracy on the test set:\", (cv_test.mean()*100).round(3), \"%\")\n",
    "    \n",
    "#     print(\"\\t\\taccuracy on the train set: \", knnGS.score(x_train, y_train))\n",
    "#     print(\"\\t\\taccuracy on the test set:\", knnGS.score(x_test, y_test))"
   ]
  },
  {
   "cell_type": "code",
   "execution_count": 31,
   "metadata": {},
   "outputs": [
    {
     "name": "stdout",
     "output_type": "stream",
     "text": [
      "\n",
      "Decision Tree Clasifier\n",
      "\t features_KNR 21\n",
      "\t\tCV accuracy on the train set:  67.732 %\n",
      "\t\tCV accuracy on the test set: 63.611 %\n",
      "\t features_DTR 18\n",
      "\t\tCV accuracy on the train set:  80.2 %\n",
      "\t\tCV accuracy on the test set: 71.395 %\n",
      "\t features_boruta 20\n",
      "\t\tCV accuracy on the train set:  78.866 %\n",
      "\t\tCV accuracy on the test set: 70.993 %\n"
     ]
    }
   ],
   "source": [
    "print(\"\\nDecision Tree Clasifier\")\n",
    "for features_name, features in {'features_KNR': features_KNR, 'features_DTR': features_DTR, 'features_boruta': features_boruta,}.items():\n",
    "    print(\"\\t\",features_name,len(features))\n",
    "    x_sel = x_df.iloc[:, features]\n",
    "    x_val_sel = x_df_val.iloc[:, features]\n",
    "    x_train, x_test, y_train, y_test = train_test_split(x_sel,y_df,test_size=0.25)\n",
    "    \n",
    "    dectreePipe = Pipeline([('scaler', StandardScaler()),\n",
    "                        ('dectree', DecisionTreeClassifier(random_state=123))])\n",
    "    dectreeParam = {\n",
    "        'dectree__criterion': ['gini', 'entropy'],\n",
    "        'dectree__class_weight': ['balanced', None]\n",
    "    }\n",
    "    dectreeGS = GridSearchCV(dectreePipe, param_grid=dectreeParam, cv=5)\n",
    "    _ = dectreeGS.fit(x_train, y_train)\n",
    "\n",
    "    skf = StratifiedKFold(n_splits=5, shuffle=True)\n",
    "    skf.get_n_splits(x_train, y_train)\n",
    "    \n",
    "    cv_train = cross_val_score(dectreeGS, x_train, y_train, cv=skf,scoring=\"accuracy\")\n",
    "    cv_test = cross_val_score(dectreeGS, x_test, y_test, cv=skf,scoring=\"accuracy\")\n",
    "    \n",
    "    print(\"\\t\\tCV accuracy on the train set: \", (cv_train.mean()*100).round(3), \"%\")\n",
    "    print(\"\\t\\tCV accuracy on the test set:\", (cv_test.mean()*100).round(3), \"%\")\n",
    "    \n",
    "#     print(\"\\t\\taccuracy on the train set: \", dectreeGS.score(x_train, y_train))\n",
    "#     print(\"\\t\\taccuracy on the test set:\", dectreeGS.score(x_test, y_test))"
   ]
  },
  {
   "cell_type": "code",
   "execution_count": null,
   "metadata": {},
   "outputs": [
    {
     "name": "stdout",
     "output_type": "stream",
     "text": [
      "\n",
      "Random Forest Classifier\n",
      "\t features_KNR 19\n",
      "\t\tCV accuracy on the train set:  84.6 %\n",
      "\t\tCV accuracy on the test set: 76.4 %\n",
      "\t features_DTR 16\n"
     ]
    }
   ],
   "source": [
    "print(\"\\nRandom Forest Classifier\")\n",
    "for features_name, features in {'features_KNR': features_KNR, 'features_DTR': features_DTR, 'features_boruta': features_boruta,}.items():\n",
    "    print(\"\\t\",features_name,len(features))\n",
    "    x_sel = x_df.iloc[:, features]\n",
    "    x_val_sel = x_df_val.iloc[:, features]\n",
    "    x_train, x_test, y_train, y_test = train_test_split(x_sel,y_df,test_size=0.25)\n",
    "    \n",
    "    randtreePipe = Pipeline([('scaler', StandardScaler()),\n",
    "                         ('randtree',\n",
    "                          RandomForestClassifier(random_state=123,\n",
    "                                                 n_estimators=100,\n",
    "                                                 bootstrap=True))])\n",
    "    max_depth_param = range(5, 25)\n",
    "    randtreeParam = {'randtree__max_depth': max_depth_param}\n",
    "    randtreeGS = GridSearchCV(randtreePipe, param_grid=randtreeParam, cv=5)\n",
    "    randtreeGS.fit(x_train, y_train)\n",
    "    \n",
    "    skf = StratifiedKFold(n_splits=5, shuffle=True)\n",
    "    skf.get_n_splits(x_train, y_train)\n",
    "    \n",
    "    cv_train = cross_val_score(randtreeGS, x_train, y_train, cv=skf,scoring=\"accuracy\")\n",
    "    cv_test = cross_val_score(randtreeGS, x_test, y_test, cv=skf,scoring=\"accuracy\")\n",
    "    \n",
    "    print(\"\\t\\tCV accuracy on the train set: \", (cv_train.mean()*100).round(3), \"%\")\n",
    "    print(\"\\t\\tCV accuracy on the test set:\", (cv_test.mean()*100).round(3), \"%\")\n",
    "    \n",
    "#     print(\"\\t\\taccuracy on the train set: \", randtreeGS.score(x_train, y_train))\n",
    "#     print(\"\\t\\taccuracy on the test set:\", randtreeGS.score(x_test, y_test))"
   ]
  },
  {
   "cell_type": "code",
   "execution_count": null,
   "metadata": {},
   "outputs": [],
   "source": [
    "# save_data = knnGS.predict_proba(x_val_sel)[:, 1]\n",
    "# np.savetxt(\"foo.csv\", save_data, delimiter=\"\", fmt='%f', header=\"\\r\\\"MATDOR\\\"\")"
   ]
  },
  {
   "cell_type": "markdown",
   "metadata": {},
   "source": [
    "# Wnioski"
   ]
  },
  {
   "cell_type": "markdown",
   "metadata": {},
   "source": [
    "Najlepsze cechy (20 kolumn) wybrał algorytm Boruta\n",
    "\n",
    "Najlepszym modelem okazał się: K-Neighbors Classifier"
   ]
  }
 ],
 "metadata": {
  "kernelspec": {
   "display_name": "Python [conda env:feature_selection] *",
   "language": "python",
   "name": "conda-env-feature_selection-py"
  },
  "language_info": {
   "codemirror_mode": {
    "name": "ipython",
    "version": 3
   },
   "file_extension": ".py",
   "mimetype": "text/x-python",
   "name": "python",
   "nbconvert_exporter": "python",
   "pygments_lexer": "ipython3",
   "version": "3.6.8"
  },
  "toc": {
   "base_numbering": 1,
   "nav_menu": {},
   "number_sections": true,
   "sideBar": true,
   "skip_h1_title": false,
   "title_cell": "Table of Contents",
   "title_sidebar": "Contents",
   "toc_cell": false,
   "toc_position": {},
   "toc_section_display": true,
   "toc_window_display": false
  }
 },
 "nbformat": 4,
 "nbformat_minor": 2
}
